{
 "cells": [
  {
   "cell_type": "code",
   "execution_count": 1,
   "metadata": {
    "collapsed": false
   },
   "outputs": [
    {
     "name": "stdout",
     "output_type": "stream",
     "text": [
      "Python is script can be saved on disk while interactive mode can see the result immediately\n"
     ]
    }
   ],
   "source": [
    "print('Python is script can be saved on disk while interactive mode can see the result immediately')"
   ]
  },
  {
   "cell_type": "code",
   "execution_count": 2,
   "metadata": {
    "collapsed": false
   },
   "outputs": [
    {
     "name": "stdout",
     "output_type": "stream",
     "text": [
      "spamspamspam\n",
      "SPAMSPAMSPAM\n",
      "SpamSpamSpam\n",
      "spam  spam  spam\n"
     ]
    }
   ],
   "source": [
    "r='spam'\n",
    "print(r*3)\n",
    "print(r.upper()*3)\n",
    "print(r.title()*3)\n",
    "print(r,'',r,'',r)"
   ]
  },
  {
   "cell_type": "code",
   "execution_count": 3,
   "metadata": {
    "collapsed": false
   },
   "outputs": [
    {
     "name": "stdout",
     "output_type": "stream",
     "text": [
      "Total wholesale cost for 60 copies is:  945.45 dollars\n"
     ]
    }
   ],
   "source": [
    "x = 24.95\n",
    "y = 3\n",
    "z = 0.75\n",
    "cost = 60 * x * 0.6 + y + 59 * z\n",
    "print('Total wholesale cost for 60 copies is: ',\"%.2f\" % round(cost,2),'dollars')\n"
   ]
  }
 ],
 "metadata": {
  "kernelspec": {
   "display_name": "Python [default]",
   "language": "python",
   "name": "python3"
  },
  "language_info": {
   "codemirror_mode": {
    "name": "ipython",
    "version": 3
   },
   "file_extension": ".py",
   "mimetype": "text/x-python",
   "name": "python",
   "nbconvert_exporter": "python",
   "pygments_lexer": "ipython3",
   "version": "3.5.2"
  }
 },
 "nbformat": 4,
 "nbformat_minor": 1
}
