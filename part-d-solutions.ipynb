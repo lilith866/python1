{
 "cells": [
  {
   "cell_type": "code",
   "execution_count": 1,
   "metadata": {
    "collapsed": false
   },
   "outputs": [
    {
     "name": "stdout",
     "output_type": "stream",
     "text": [
      "Hello is string and cannot convert to int\n",
      "hour is not defined\n",
      "apple is a sring and cannot convert to float\n",
      "math package is not imported\n"
     ]
    }
   ],
   "source": [
    "print('Hello is string and cannot convert to int')\n",
    "print('hour is not defined')\n",
    "print('apple is a sring and cannot convert to float')\n",
    "print('math package is not imported')\n"
   ]
  },
  {
   "cell_type": "code",
   "execution_count": 2,
   "metadata": {
    "collapsed": false
   },
   "outputs": [
    {
     "name": "stdout",
     "output_type": "stream",
     "text": [
      "local variables only work in one function. If the function ends, then these variables no longer work. Global variables work for whole script\n"
     ]
    }
   ],
   "source": [
    "print('local variables only work in one function. If the function ends, then these variables no longer work. Global variables work for whole script')\n"
   ]
  },
  {
   "cell_type": "code",
   "execution_count": 3,
   "metadata": {
    "collapsed": false
   },
   "outputs": [
    {
     "name": "stdout",
     "output_type": "stream",
     "text": [
      "Because you are confronted with clues and have to infer the processes and events that led to the result\n"
     ]
    }
   ],
   "source": [
    "print('Because you are confronted with clues and have to infer the processes and events that led to the result')\n"
   ]
  },
  {
   "cell_type": "code",
   "execution_count": 4,
   "metadata": {
    "collapsed": false
   },
   "outputs": [
    {
     "name": "stdout",
     "output_type": "stream",
     "text": [
      " See the stone set in your eyes\n",
      " See the thorn twist in your side\n",
      " I wait for you\n",
      " Sleight of hand and twist of fate\n",
      " On a bed of nails she makes me wait\n",
      " And I wait, without you\n",
      "\n",
      " With or without you \n",
      " With or without you \n",
      "\n",
      " Through the storm we reach the shore\n",
      " You give it all but I want more\n",
      " And I'm waiting for you\n",
      "\n",
      " With or without you \n",
      " With or without you \n",
      " I can't live \n",
      " With or without you\n",
      "\n",
      "\n",
      " And you give yourself away \n",
      " And you give yourself away \n",
      " And you give \n",
      " And you give \n",
      " And you give yourself away \n",
      "\n",
      " My hands are tied\n",
      " My body bruised, she's got me with\n",
      " Nothing to win and\n",
      " Nothing left to lose\n",
      "\n",
      " And you give yourself away \n",
      " And you give yourself away \n",
      " And you give \n",
      " And you give \n",
      " And you give yourself away \n",
      "\n",
      " With or without you \n",
      " With or without you \n",
      " I can't live \n",
      " With or without you\n",
      " Oh \n",
      "\n",
      " With or without you \n",
      " With or without you \n",
      " I can't live \n",
      " With or without you\n",
      "\n",
      "\n",
      " With or without you\n"
     ]
    }
   ],
   "source": [
    "x = 'With or without you'\n",
    "y = '''I can't live'''\n",
    "a = 'And you give yourself away'\n",
    "b = 'And you give'\n",
    "\n",
    "def repeat_x():\n",
    "   print('',x,\"\\n\",x,\"\\n\",y,\"\\n\",x)\n",
    "\n",
    "def repeat_a():\n",
    "    print('',a,\"\\n\",a,\"\\n\",b,\"\\n\",b,\"\\n\",a,\"\\n\")\n",
    "\n",
    "def lyric():\n",
    "    print(' See the stone set in your eyes\\n',\n",
    "          'See the thorn twist in your side\\n',\n",
    "          'I wait for you\\n',\n",
    "          'Sleight of hand and twist of fate\\n',\n",
    "          'On a bed of nails she makes me wait\\n',\n",
    "          'And I wait, without you\\n')\n",
    "\n",
    "    print('',x,\"\\n\",x,\"\\n\")\n",
    "\n",
    "    print(' Through the storm we reach the shore\\n',\n",
    "          'You give it all but I want more\\n',\n",
    "          '''And I'm waiting for you\\n''')\n",
    "\n",
    "    repeat_x()\n",
    "    print(\"\\n\")\n",
    "\n",
    "    repeat_a()\n",
    "\n",
    "    print(' My hands are tied\\n',\n",
    "          '''My body bruised, she's got me with\\n''',\n",
    "          'Nothing to win and\\n',\n",
    "          'Nothing left to lose\\n')\n",
    "\n",
    "    repeat_a()\n",
    "\n",
    "    repeat_x()\n",
    "\n",
    "    print(' Oh',\"\\n\")\n",
    "\n",
    "    repeat_x()\n",
    "    print(\"\\n\")\n",
    "\n",
    "    print('',x)\n",
    "\n",
    "\n",
    "lyric()"
   ]
  },
  {
   "cell_type": "code",
   "execution_count": null,
   "metadata": {
    "collapsed": true
   },
   "outputs": [],
   "source": []
  }
 ],
 "metadata": {
  "kernelspec": {
   "display_name": "Python [default]",
   "language": "python",
   "name": "python3"
  },
  "language_info": {
   "codemirror_mode": {
    "name": "ipython",
    "version": 3
   },
   "file_extension": ".py",
   "mimetype": "text/x-python",
   "name": "python",
   "nbconvert_exporter": "python",
   "pygments_lexer": "ipython3",
   "version": "3.5.2"
  }
 },
 "nbformat": 4,
 "nbformat_minor": 1
}
