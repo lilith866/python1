{
 "cells": [
  {
   "cell_type": "code",
   "execution_count": 1,
   "metadata": {
    "collapsed": false
   },
   "outputs": [
    {
     "name": "stdout",
     "output_type": "stream",
     "text": [
      "sum =  18 ; max =  9\n"
     ]
    }
   ],
   "source": [
    "t = 13950\n",
    "a = t//10000\n",
    "b = (t - 10000*a)//1000\n",
    "c = (t - 10000*a - 1000*b)//100\n",
    "d = (t - 10000*a - 1000*b - 100*c)//10\n",
    "e = (t - 10000*a - 1000*b - 100*c - 10*d)//10\n",
    "print('sum = ', a+b+c+d+e, '; max = ',max(a,b,c,d,e))"
   ]
  },
  {
   "cell_type": "code",
   "execution_count": null,
   "metadata": {
    "collapsed": true
   },
   "outputs": [],
   "source": []
  }
 ],
 "metadata": {
  "anaconda-cloud": {},
  "kernelspec": {
   "display_name": "Python [default]",
   "language": "python",
   "name": "python3"
  },
  "language_info": {
   "codemirror_mode": {
    "name": "ipython",
    "version": 3
   },
   "file_extension": ".py",
   "mimetype": "text/x-python",
   "name": "python",
   "nbconvert_exporter": "python",
   "pygments_lexer": "ipython3",
   "version": "3.5.2"
  }
 },
 "nbformat": 4,
 "nbformat_minor": 1
}
