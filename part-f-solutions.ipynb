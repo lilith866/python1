{
 "cells": [
  {
   "cell_type": "code",
   "execution_count": 1,
   "metadata": {
    "collapsed": false
   },
   "outputs": [
    {
     "name": "stdout",
     "output_type": "stream",
     "text": [
      "It can either return a value or nothing\n"
     ]
    }
   ],
   "source": [
    "print('It can either return a value or nothing')"
   ]
  },
  {
   "cell_type": "code",
   "execution_count": 1,
   "metadata": {
    "collapsed": false
   },
   "outputs": [
    {
     "name": "stdout",
     "output_type": "stream",
     "text": [
      "1\n",
      "5\n",
      "10\n",
      "0\n",
      "4.2\n",
      "Error\n"
     ]
    }
   ],
   "source": [
    "\n",
    "def absolute_value(x):\n",
    "    if (type(x) == int or type(x) == float) and x >= 0:\n",
    "        return x\n",
    "    elif (type(x) == int or type(x) == float) and x < 0:\n",
    "        return -x\n",
    "    return 'Error'\n",
    "\n",
    "xx = [1,5,-10,0,4.2,'bananas']\n",
    "\n",
    "for x in xx:\n",
    "    print(absolute_value(x))"
   ]
  },
  {
   "cell_type": "code",
   "execution_count": 14,
   "metadata": {
    "collapsed": false
   },
   "outputs": [
    {
     "name": "stdout",
     "output_type": "stream",
     "text": [
      "It is easier for debugging. Help to find error earlier\n"
     ]
    }
   ],
   "source": [
    "print('It is easier for debugging. Help to find error earlier')"
   ]
  },
  {
   "cell_type": "code",
   "execution_count": 16,
   "metadata": {
    "collapsed": false
   },
   "outputs": [
    {
     "data": {
      "text/plain": [
       "True"
      ]
     },
     "execution_count": 16,
     "metadata": {},
     "output_type": "execute_result"
    }
   ],
   "source": [
    "def is_between(x,y,z):\n",
    "    return (x<=y and y<=z)\n",
    "\n",
    "is_between(1,2,3)"
   ]
  },
  {
   "cell_type": "code",
   "execution_count": 17,
   "metadata": {
    "collapsed": false
   },
   "outputs": [
    {
     "data": {
      "text/plain": [
       "True"
      ]
     },
     "execution_count": 17,
     "metadata": {},
     "output_type": "execute_result"
    }
   ],
   "source": [
    "def factorial(n):\n",
    "    fac = 1\n",
    "    x = 1\n",
    "    while x <= n:\n",
    "        fac = fac * x\n",
    "        x = x + 1\n",
    "    return fac\n",
    "\n",
    "def is_digit_factorial(n):\n",
    "    a = str(n)\n",
    "    xx = list(a)\n",
    "    sum = 0\n",
    "    for x in xx:\n",
    "        y = int(x)\n",
    "        z = factorial(y)\n",
    "        sum = sum + z\n",
    "    return sum == n\n",
    "\n",
    "is_digit_factorial(145)"
   ]
  },
  {
   "cell_type": "code",
   "execution_count": null,
   "metadata": {
    "collapsed": true
   },
   "outputs": [],
   "source": []
  }
 ],
 "metadata": {
  "anaconda-cloud": {},
  "kernelspec": {
   "display_name": "Python [default]",
   "language": "python",
   "name": "python3"
  },
  "language_info": {
   "codemirror_mode": {
    "name": "ipython",
    "version": 3
   },
   "file_extension": ".py",
   "mimetype": "text/x-python",
   "name": "python",
   "nbconvert_exporter": "python",
   "pygments_lexer": "ipython3",
   "version": "3.5.2"
  }
 },
 "nbformat": 4,
 "nbformat_minor": 1
}
