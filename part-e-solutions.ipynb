{
 "cells": [
  {
   "cell_type": "code",
   "execution_count": 1,
   "metadata": {
    "collapsed": false
   },
   "outputs": [
    {
     "name": "stdout",
     "output_type": "stream",
     "text": [
      "b,c,e are true\n"
     ]
    }
   ],
   "source": [
    "print('b,c,e are true')"
   ]
  },
  {
   "cell_type": "code",
   "execution_count": 2,
   "metadata": {
    "collapsed": false
   },
   "outputs": [
    {
     "name": "stdout",
     "output_type": "stream",
     "text": [
      "If nested many times, the code will be very difficult to read\n"
     ]
    }
   ],
   "source": [
    "print('If nested many times, the code will be very difficult to read')"
   ]
  },
  {
   "cell_type": "code",
   "execution_count": 4,
   "metadata": {
    "collapsed": false
   },
   "outputs": [
    {
     "name": "stdout",
     "output_type": "stream",
     "text": [
      "*****\n",
      "****\n",
      "***\n",
      "**\n",
      "*\n",
      "\n",
      "Blastoff!\n"
     ]
    }
   ],
   "source": [
    "def pt(n):\n",
    "    print('*'*n)\n",
    "    if n <= 0:\n",
    "        print('Blastoff!')\n",
    "    else:\n",
    "        n = n - 1\n",
    "        pt(n)\n",
    "        \n",
    "pt(5)"
   ]
  },
  {
   "cell_type": "code",
   "execution_count": 4,
   "metadata": {
    "collapsed": false
   },
   "outputs": [
    {
     "name": "stdout",
     "output_type": "stream",
     "text": [
      "choose a number between 0 and 6:3\n",
      "Wednesday\n"
     ]
    }
   ],
   "source": [
    "def transfer_DaysofWeek(n):\n",
    "    if n == 0:\n",
    "        print('Sunday')\n",
    "    elif n == 1:\n",
    "        print('Monday')\n",
    "    elif n == 2:\n",
    "        print('Tuesday')\n",
    "    elif n == 3:\n",
    "        print('Wednesday')\n",
    "    elif n == 4:\n",
    "        print('Thursday')\n",
    "    elif n == 5:\n",
    "        print('Friday')\n",
    "    else:\n",
    "        print('Saturday')\n",
    "\n",
    "n = int(input('choose a number between 0 and 6:'))\n",
    "\n",
    "transfer_DaysofWeek(n)"
   ]
  },
  {
   "cell_type": "code",
   "execution_count": 5,
   "metadata": {
    "collapsed": false
   },
   "outputs": [
    {
     "name": "stdout",
     "output_type": "stream",
     "text": [
      "choose a number between 0 and 6 for your leaving day: 3\n",
      "the length of your stay is: 137\n",
      "Sunday\n"
     ]
    }
   ],
   "source": [
    "def transfer_DaysofWeek(n):\n",
    "    if n == 0:\n",
    "        print('Sunday')\n",
    "    elif n == 1:\n",
    "        print('Monday')\n",
    "    elif n == 2:\n",
    "        print('Tuesday')\n",
    "    elif n == 3:\n",
    "        print('Wednesday')\n",
    "    elif n == 4:\n",
    "        print('Thursday')\n",
    "    elif n == 5:\n",
    "        print('Friday')\n",
    "    else:\n",
    "        print('Saturday')\n",
    "\n",
    "x = int(input('choose a number between 0 and 6 for your leaving day: '))\n",
    "\n",
    "y = int(input('the length of your stay is: '))\n",
    "\n",
    "n = ( x + y ) % 7\n",
    "\n",
    "transfer_DaysofWeek(n)"
   ]
  },
  {
   "cell_type": "markdown",
   "metadata": {},
   "source": []
  }
 ],
 "metadata": {
  "kernelspec": {
   "display_name": "Python [default]",
   "language": "python",
   "name": "python3"
  },
  "language_info": {
   "codemirror_mode": {
    "name": "ipython",
    "version": 3
   },
   "file_extension": ".py",
   "mimetype": "text/x-python",
   "name": "python",
   "nbconvert_exporter": "python",
   "pygments_lexer": "ipython3",
   "version": "3.5.2"
  }
 },
 "nbformat": 4,
 "nbformat_minor": 1
}
